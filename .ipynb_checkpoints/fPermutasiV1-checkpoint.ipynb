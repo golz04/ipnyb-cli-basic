{
 "cells": [
  {
   "cell_type": "code",
   "execution_count": 33,
   "metadata": {},
   "outputs": [],
   "source": [
    "def permutasi(n, r):\n",
    "    a = 1\n",
    "    b = n-r\n",
    "    if(b == 0):\n",
    "        b = 1\n",
    "    for i in range(1, n+1):\n",
    "        a *= i\n",
    "    for x in range(1, b):\n",
    "        b *= x\n",
    "    hasil = a/b\n",
    "    return hasil"
   ]
  },
  {
   "cell_type": "code",
   "execution_count": 34,
   "metadata": {},
   "outputs": [
    {
     "name": "stdin",
     "output_type": "stream",
     "text": [
      "Masukkan Nilai N: 4\n",
      "Masukkan Nilai R: 2\n"
     ]
    },
    {
     "name": "stdout",
     "output_type": "stream",
     "text": [
      "12.0\n"
     ]
    }
   ],
   "source": [
    "n = int(input(\"Masukkan Nilai N:\"))\n",
    "r = int(input(\"Masukkan Nilai R:\"))\n",
    "print(permutasi(n,r))"
   ]
  },
  {
   "cell_type": "code",
   "execution_count": null,
   "metadata": {},
   "outputs": [],
   "source": []
  }
 ],
 "metadata": {
  "kernelspec": {
   "display_name": "Python 3",
   "language": "python",
   "name": "python3"
  },
  "language_info": {
   "codemirror_mode": {
    "name": "ipython",
    "version": 3
   },
   "file_extension": ".py",
   "mimetype": "text/x-python",
   "name": "python",
   "nbconvert_exporter": "python",
   "pygments_lexer": "ipython3",
   "version": "3.8.0"
  }
 },
 "nbformat": 4,
 "nbformat_minor": 4
}
