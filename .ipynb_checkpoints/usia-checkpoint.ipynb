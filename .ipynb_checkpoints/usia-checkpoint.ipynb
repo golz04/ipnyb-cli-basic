{
 "cells": [
  {
   "cell_type": "code",
   "execution_count": 2,
   "metadata": {},
   "outputs": [
    {
     "name": "stdin",
     "output_type": "stream",
     "text": [
      "Usia : 12\n"
     ]
    },
    {
     "name": "stdout",
     "output_type": "stream",
     "text": [
      "anak-anak\n"
     ]
    }
   ],
   "source": [
    "usia = int(input(\"Usia :\"))\n",
    "if (usia>0 and usia<=5):\n",
    "    print(\"balita\")\n",
    "elif (usia>5 and usia<=12):\n",
    "    print(\"anak-anak\")\n",
    "elif (usia>12 and usia<18):\n",
    "    print(\"remaja\")\n",
    "elif (usia>18):\n",
    "    print(\"dewasa\")"
   ]
  },
  {
   "cell_type": "code",
   "execution_count": null,
   "metadata": {},
   "outputs": [],
   "source": []
  }
 ],
 "metadata": {
  "kernelspec": {
   "display_name": "Python 3",
   "language": "python",
   "name": "python3"
  },
  "language_info": {
   "codemirror_mode": {
    "name": "ipython",
    "version": 3
   },
   "file_extension": ".py",
   "mimetype": "text/x-python",
   "name": "python",
   "nbconvert_exporter": "python",
   "pygments_lexer": "ipython3",
   "version": "3.8.0"
  }
 },
 "nbformat": 4,
 "nbformat_minor": 4
}
