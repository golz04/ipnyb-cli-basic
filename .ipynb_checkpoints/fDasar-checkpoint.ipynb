{
 "cells": [
  {
   "cell_type": "code",
   "execution_count": 37,
   "metadata": {},
   "outputs": [],
   "source": [
    "mahasiswa = ['Muhammad', 'Haidar', 'MuhammadHaidar', 'mHaidar']\n",
    "def sapa():\n",
    "    print('Halo')\n",
    "def salam(nama):\n",
    "    print('Hai :',nama)\n",
    "def salamMahasiswa(mahasiswa):\n",
    "    for i in mahasiswa:\n",
    "        print(\"Halo :\",i)\n",
    "        \n",
    "def gSalam(mahasiswa):\n",
    "    print(\"Woi\", mahasiswa)\n",
    "def gMahasiswa(mahasiswa):\n",
    "    for i in mahasiswa:\n",
    "        gSalam(i)\n",
    "\n",
    "def perbandingan(b1, b2):\n",
    "    if(b1 > b2):\n",
    "        print(b1,\"lebih besar\")\n",
    "    elif(b2 > b1):\n",
    "        print(b2,\"lebih besar\")\n",
    "    else:\n",
    "        print(b1,\"&\",b2,\"Sama besar\")\n",
    "def balok(p,l,t):\n",
    "    hasil = p*l*t\n",
    "    print(\"Volume Baloknya\",hasil)\n",
    "    \n",
    "def rekursifAngka(angka):\n",
    "    print(angka)\n",
    "    if(angka > 1):\n",
    "        rekursifAngka(angka-1)"
   ]
  },
  {
   "cell_type": "code",
   "execution_count": 38,
   "metadata": {},
   "outputs": [
    {
     "name": "stdout",
     "output_type": "stream",
     "text": [
      "Halo\n",
      "Hai : muhDar\n",
      "Halo : Muhammad\n",
      "Halo : Haidar\n",
      "Halo : MuhammadHaidar\n",
      "Halo : mHaidar\n",
      "Woi Muhammad\n",
      "Woi Haidar\n",
      "Woi MuhammadHaidar\n",
      "Woi mHaidar\n",
      "4 lebih besar\n",
      "4 lebih besar\n",
      "4 & 4 Sama besar\n",
      "Volume Baloknya 6\n",
      "3\n",
      "2\n",
      "1\n"
     ]
    }
   ],
   "source": [
    "sapa()\n",
    "salam('muhDar')\n",
    "salamMahasiswa(mahasiswa)\n",
    "gMahasiswa(mahasiswa)\n",
    "perbandingan(3,4)\n",
    "perbandingan(4,3)\n",
    "perbandingan(4,4)\n",
    "balok(1,2,3)\n",
    "rekursifAngka(3)"
   ]
  },
  {
   "cell_type": "code",
   "execution_count": null,
   "metadata": {},
   "outputs": [],
   "source": []
  }
 ],
 "metadata": {
  "kernelspec": {
   "display_name": "Python 3",
   "language": "python",
   "name": "python3"
  },
  "language_info": {
   "codemirror_mode": {
    "name": "ipython",
    "version": 3
   },
   "file_extension": ".py",
   "mimetype": "text/x-python",
   "name": "python",
   "nbconvert_exporter": "python",
   "pygments_lexer": "ipython3",
   "version": "3.8.0"
  }
 },
 "nbformat": 4,
 "nbformat_minor": 4
}
