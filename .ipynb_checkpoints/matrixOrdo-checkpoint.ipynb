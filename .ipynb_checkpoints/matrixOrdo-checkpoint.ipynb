{
 "cells": [
  {
   "cell_type": "code",
   "execution_count": 47,
   "metadata": {},
   "outputs": [
    {
     "name": "stdin",
     "output_type": "stream",
     "text": [
      "Masukkan ordonya : 4\n",
      "Masukkan angka pada baris ke-1: 1 2 3 8\n",
      "Masukkan angka pada baris ke-2: 4 5 6 4\n",
      "Masukkan angka pada baris ke-3: 7 8 9 2\n",
      "Masukkan angka pada baris ke-4: 7 6 4 2\n"
     ]
    },
    {
     "name": "stdout",
     "output_type": "stream",
     "text": [
      "17\n",
      "29\n"
     ]
    }
   ],
   "source": [
    "listOrdo = []\n",
    "a = 0\n",
    "i = 1\n",
    "j=0\n",
    "dKiri = 0\n",
    "dKanan = 0\n",
    "\n",
    "n = int(input(\"Masukkan ordonya :\"))\n",
    "while(i <= n):\n",
    "    x = [int(x) for x in input(\"Masukkan angka pada baris ke-\"+str(i)+\":\").split(' ')]\n",
    "    listOrdo.append(x)\n",
    "    i+=1\n",
    "while(j < n):\n",
    "    dKiri+=listOrdo[j][j]\n",
    "    j+=1\n",
    "    \n",
    "k = len(listOrdo)-1\n",
    "h = 0\n",
    "while(a <= k):\n",
    "    dKanan+=listOrdo[h][k]\n",
    "    h+=1\n",
    "    k-=1\n",
    "print(dKiri,dKanan)"
   ]
  },
  {
   "cell_type": "code",
   "execution_count": null,
   "metadata": {},
   "outputs": [],
   "source": []
  }
 ],
 "metadata": {
  "kernelspec": {
   "display_name": "Python 3",
   "language": "python",
   "name": "python3"
  },
  "language_info": {
   "codemirror_mode": {
    "name": "ipython",
    "version": 3
   },
   "file_extension": ".py",
   "mimetype": "text/x-python",
   "name": "python",
   "nbconvert_exporter": "python",
   "pygments_lexer": "ipython3",
   "version": "3.8.0"
  }
 },
 "nbformat": 4,
 "nbformat_minor": 4
}
