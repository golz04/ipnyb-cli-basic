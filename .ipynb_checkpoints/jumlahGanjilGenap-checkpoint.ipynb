{
 "cells": [
  {
   "cell_type": "code",
   "execution_count": 3,
   "metadata": {},
   "outputs": [
    {
     "name": "stdin",
     "output_type": "stream",
     "text": [
      "Masukkan bilangan : 5\n"
     ]
    },
    {
     "name": "stdout",
     "output_type": "stream",
     "text": [
      "Jumlah bilangan genap: 2\n",
      "Jumlah bilangan ganjil: 2\n",
      "Total penjumlahan semua bilangan: 10\n"
     ]
    }
   ],
   "source": [
    "n = int(input(\"Masukkan bilangan :\"))\n",
    "totalGanjilGenap = 1\n",
    "genap = 0\n",
    "ganjil = 0\n",
    "total = 0\n",
    "while(totalGanjilGenap < n):\n",
    "    if(totalGanjilGenap%2 == 0):\n",
    "        genap+=1\n",
    "    else:\n",
    "        ganjil+=1\n",
    "    total+=totalGanjilGenap\n",
    "    totalGanjilGenap+=1\n",
    "print(\"Jumlah bilangan genap:\",genap)\n",
    "print(\"Jumlah bilangan ganjil:\",ganjil)\n",
    "print(\"Total penjumlahan semua bilangan:\",total)"
   ]
  },
  {
   "cell_type": "code",
   "execution_count": null,
   "metadata": {},
   "outputs": [],
   "source": []
  }
 ],
 "metadata": {
  "kernelspec": {
   "display_name": "Python 3",
   "language": "python",
   "name": "python3"
  },
  "language_info": {
   "codemirror_mode": {
    "name": "ipython",
    "version": 3
   },
   "file_extension": ".py",
   "mimetype": "text/x-python",
   "name": "python",
   "nbconvert_exporter": "python",
   "pygments_lexer": "ipython3",
   "version": "3.8.0"
  }
 },
 "nbformat": 4,
 "nbformat_minor": 4
}
