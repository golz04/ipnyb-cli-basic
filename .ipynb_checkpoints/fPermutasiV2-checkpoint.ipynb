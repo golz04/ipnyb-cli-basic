{
 "cells": [
  {
   "cell_type": "code",
   "execution_count": null,
   "metadata": {},
   "outputs": [],
   "source": [
    "def rekursifPermutasi(n,r):\n",
    "    a = 1\n",
    "    b = n-r\n",
    "    c = 1\n",
    "    if(b == 0):\n",
    "        b = 1\n",
    "        if(n >= 1):\n",
    "            a*=n\n",
    "            rekursifPermutasi(n-1, b)\n",
    "    else :\n",
    "        if(n>=1 and b>=1):\n",
    "            a*=n\n",
    "            c*=b\n",
    "            rekursifPermutasi(n-1, b-1)\n",
    "    print(a/c)"
   ]
  },
  {
   "cell_type": "code",
   "execution_count": null,
   "metadata": {},
   "outputs": [],
   "source": [
    "n = int(input(\"Masukkan Nilai N:\"))\n",
    "r = int(input(\"Masukkan Nilai R:\"))\n",
    "print(rekursifPermutasi(n,r))"
   ]
  },
  {
   "cell_type": "code",
   "execution_count": null,
   "metadata": {},
   "outputs": [],
   "source": []
  }
 ],
 "metadata": {
  "kernelspec": {
   "display_name": "Python 3",
   "language": "python",
   "name": "python3"
  },
  "language_info": {
   "codemirror_mode": {
    "name": "ipython",
    "version": 3
   },
   "file_extension": ".py",
   "mimetype": "text/x-python",
   "name": "python",
   "nbconvert_exporter": "python",
   "pygments_lexer": "ipython3",
   "version": "3.8.0"
  }
 },
 "nbformat": 4,
 "nbformat_minor": 4
}
