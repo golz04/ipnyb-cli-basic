{
 "cells": [
  {
   "cell_type": "code",
   "execution_count": 4,
   "metadata": {},
   "outputs": [
    {
     "name": "stdin",
     "output_type": "stream",
     "text": [
      "Masukkan jumlah biji edamame : 5\n",
      "Masukkan berat edamame : 1\n"
     ]
    },
    {
     "name": "stdout",
     "output_type": "stream",
     "text": [
      "Kualitas Curah\n"
     ]
    }
   ],
   "source": [
    "biji = int(input(\"Masukkan jumlah biji edamame :\"))\n",
    "berat = int(input(\"Masukkan berat edamame :\"))\n",
    "if(biji>=2 and berat>=5):\n",
    "    print(\"Kualitas Ekspor\")\n",
    "elif(berat>=3):\n",
    "    print(\"Kualitas Super\")\n",
    "else:\n",
    "    print(\"Kualitas Curah\")"
   ]
  },
  {
   "cell_type": "code",
   "execution_count": null,
   "metadata": {},
   "outputs": [],
   "source": []
  }
 ],
 "metadata": {
  "kernelspec": {
   "display_name": "Python 3",
   "language": "python",
   "name": "python3"
  },
  "language_info": {
   "codemirror_mode": {
    "name": "ipython",
    "version": 3
   },
   "file_extension": ".py",
   "mimetype": "text/x-python",
   "name": "python",
   "nbconvert_exporter": "python",
   "pygments_lexer": "ipython3",
   "version": "3.8.0"
  }
 },
 "nbformat": 4,
 "nbformat_minor": 4
}
