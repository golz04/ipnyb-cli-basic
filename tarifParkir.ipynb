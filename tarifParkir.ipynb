{
 "cells": [
  {
   "cell_type": "code",
   "execution_count": 9,
   "metadata": {},
   "outputs": [
    {
     "name": "stdin",
     "output_type": "stream",
     "text": [
      "Berapa km ?  20\n",
      "promo ? 1234\n"
     ]
    },
    {
     "name": "stdout",
     "output_type": "stream",
     "text": [
      "48000\n"
     ]
    }
   ],
   "source": [
    "jarak = int(input(\"Berapa km ? \"))\n",
    "kode = int(input(\"promo ?\"))\n",
    "if (kode == 1234):\n",
    "    if (jarak > 10):\n",
    "        harga = 3000*jarak\n",
    "        diskon = harga*20/100\n",
    "        total = harga - diskon\n",
    "        print(int(total))\n",
    "    else:\n",
    "        harga = 5000*jarak\n",
    "        diskon = harga*20/100\n",
    "        total = harga - diskon\n",
    "        print(int(total))\n",
    "else:\n",
    "    if (jarak > 10):\n",
    "        total = 3000*jarak\n",
    "        print(int(total))\n",
    "    else:\n",
    "        total = 5000*jarak\n",
    "        print(int(total))\n",
    "        "
   ]
  },
  {
   "cell_type": "code",
   "execution_count": null,
   "metadata": {},
   "outputs": [],
   "source": [
    "|"
   ]
  }
 ],
 "metadata": {
  "kernelspec": {
   "display_name": "Python 3",
   "language": "python",
   "name": "python3"
  },
  "language_info": {
   "codemirror_mode": {
    "name": "ipython",
    "version": 3
   },
   "file_extension": ".py",
   "mimetype": "text/x-python",
   "name": "python",
   "nbconvert_exporter": "python",
   "pygments_lexer": "ipython3",
   "version": "3.8.0"
  }
 },
 "nbformat": 4,
 "nbformat_minor": 4
}
