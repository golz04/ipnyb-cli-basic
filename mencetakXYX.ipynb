{
 "cells": [
  {
   "cell_type": "code",
   "execution_count": 3,
   "metadata": {},
   "outputs": [
    {
     "name": "stdin",
     "output_type": "stream",
     "text": [
      "Angka Awal  1\n",
      "Angka Akhir : 10\n"
     ]
    },
    {
     "name": "stdout",
     "output_type": "stream",
     "text": [
      "1,2,3,4,5,6,7,8,9,10,9,8,7,6,5,4,3,2,1,"
     ]
    }
   ],
   "source": [
    "n = int(input(\"Angka Awal \"))\n",
    "y = int(input(\"Angka Akhir :\"))\n",
    "x = n\n",
    "if (y > x):\n",
    "    while(x<y):\n",
    "        print(x, end=',')\n",
    "        x+=1\n",
    "    x = n\n",
    "    while(y>=x):\n",
    "        print(y, end=',')\n",
    "        y-=1\n",
    "else:\n",
    "    print(\"Y harus > X\")"
   ]
  },
  {
   "cell_type": "code",
   "execution_count": null,
   "metadata": {},
   "outputs": [],
   "source": []
  }
 ],
 "metadata": {
  "kernelspec": {
   "display_name": "Python 3",
   "language": "python",
   "name": "python3"
  },
  "language_info": {
   "codemirror_mode": {
    "name": "ipython",
    "version": 3
   },
   "file_extension": ".py",
   "mimetype": "text/x-python",
   "name": "python",
   "nbconvert_exporter": "python",
   "pygments_lexer": "ipython3",
   "version": "3.8.0"
  }
 },
 "nbformat": 4,
 "nbformat_minor": 4
}
