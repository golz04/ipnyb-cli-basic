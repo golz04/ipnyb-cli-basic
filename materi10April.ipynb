{
 "cells": [
  {
   "cell_type": "code",
   "execution_count": 1,
   "metadata": {},
   "outputs": [],
   "source": [
    "def printHalo():\n",
    "    print('Hallo')"
   ]
  },
  {
   "cell_type": "code",
   "execution_count": 2,
   "metadata": {},
   "outputs": [
    {
     "name": "stdout",
     "output_type": "stream",
     "text": [
      "Hallo\n"
     ]
    }
   ],
   "source": [
    "printHalo()"
   ]
  },
  {
   "cell_type": "code",
   "execution_count": 3,
   "metadata": {},
   "outputs": [],
   "source": [
    "def printHaloParam(nama):\n",
    "    print('Halo', nama)"
   ]
  },
  {
   "cell_type": "code",
   "execution_count": 4,
   "metadata": {},
   "outputs": [
    {
     "name": "stdout",
     "output_type": "stream",
     "text": [
      "Halo Haidar\n"
     ]
    }
   ],
   "source": [
    "printHaloParam(\"Haidar\")"
   ]
  },
  {
   "cell_type": "code",
   "execution_count": 5,
   "metadata": {},
   "outputs": [],
   "source": [
    "def penjumlahan(b1, b2):\n",
    "    return b1+b2"
   ]
  },
  {
   "cell_type": "code",
   "execution_count": 6,
   "metadata": {},
   "outputs": [
    {
     "name": "stdout",
     "output_type": "stream",
     "text": [
      "15\n"
     ]
    }
   ],
   "source": [
    "print(penjumlahan(10,5))"
   ]
  },
  {
   "cell_type": "code",
   "execution_count": 7,
   "metadata": {},
   "outputs": [],
   "source": [
    "menu = ['soto', 'bakso', 'rawon', 'mie']"
   ]
  },
  {
   "cell_type": "code",
   "execution_count": 8,
   "metadata": {},
   "outputs": [],
   "source": [
    "def pilihanmenu(namamenu):\n",
    "    if namamenu in menu :\n",
    "        print('Ada')\n",
    "    else:\n",
    "        print('Kosong')"
   ]
  },
  {
   "cell_type": "code",
   "execution_count": 10,
   "metadata": {},
   "outputs": [
    {
     "name": "stdin",
     "output_type": "stream",
     "text": [
      "Mau menu apa ? apa\n"
     ]
    },
    {
     "name": "stdout",
     "output_type": "stream",
     "text": [
      "Kosong\n"
     ]
    }
   ],
   "source": [
    "pilih = input('Mau menu apa ?')\n",
    "pilihanmenu(pilih)"
   ]
  },
  {
   "cell_type": "code",
   "execution_count": 11,
   "metadata": {},
   "outputs": [],
   "source": [
    "# map / multidimensi\n",
    "#sepasang key:value\n",
    "menu2 = {\n",
    "    'soto':2000,\n",
    "    'bakso':3000,\n",
    "    'rawon':4000,\n",
    "    'mie':5000\n",
    "}"
   ]
  },
  {
   "cell_type": "code",
   "execution_count": 12,
   "metadata": {},
   "outputs": [],
   "source": [
    "def pilihanMenu2(menu2):\n",
    "    for i in menu2:\n",
    "        print(i)"
   ]
  },
  {
   "cell_type": "code",
   "execution_count": 13,
   "metadata": {},
   "outputs": [
    {
     "name": "stdout",
     "output_type": "stream",
     "text": [
      "soto\n",
      "bakso\n",
      "rawon\n",
      "mie\n"
     ]
    }
   ],
   "source": [
    "pilihanMenu2(menu2)"
   ]
  },
  {
   "cell_type": "code",
   "execution_count": 14,
   "metadata": {},
   "outputs": [
    {
     "name": "stdout",
     "output_type": "stream",
     "text": [
      "2000\n"
     ]
    }
   ],
   "source": [
    "print(menu2['soto'])"
   ]
  },
  {
   "cell_type": "code",
   "execution_count": 15,
   "metadata": {},
   "outputs": [],
   "source": [
    "def pilihLagi(namaMenu, jmlMenu):\n",
    "    total = 0\n",
    "    if (namaMenu) not in menu2:\n",
    "        return total\n",
    "    else:\n",
    "        total = menu2[namaMenu]*jmlMenu\n",
    "        return total"
   ]
  },
  {
   "cell_type": "code",
   "execution_count": 17,
   "metadata": {},
   "outputs": [
    {
     "name": "stdin",
     "output_type": "stream",
     "text": [
      "Mau makan apa ? mie\n",
      "Berapa porsi ? 5\n"
     ]
    },
    {
     "name": "stdout",
     "output_type": "stream",
     "text": [
      "Total yang harus dibayar 25000\n"
     ]
    }
   ],
   "source": [
    "pilih = input('Mau makan apa ?')\n",
    "jml = int(input('Berapa porsi ?'))\n",
    "bayar = pilihLagi(pilih, jml)\n",
    "print(\"Total yang harus dibayar\", bayar)"
   ]
  },
  {
   "cell_type": "code",
   "execution_count": 18,
   "metadata": {},
   "outputs": [],
   "source": [
    "contohmap = {\n",
    "    'key1' : [1,2,3],\n",
    "    'key2' : [3,4,5],\n",
    "    'key3' : [5,6,7]\n",
    "}"
   ]
  },
  {
   "cell_type": "code",
   "execution_count": 22,
   "metadata": {},
   "outputs": [
    {
     "name": "stdout",
     "output_type": "stream",
     "text": [
      "[1, 2, 3]\n",
      "4\n"
     ]
    }
   ],
   "source": [
    "print(contohmap['key1'])\n",
    "print(contohmap['key2'][1])"
   ]
  },
  {
   "cell_type": "code",
   "execution_count": 35,
   "metadata": {},
   "outputs": [],
   "source": [
    "#buatProgramUntukMenampilkanTabelPerkalian\n",
    "def perkalian(n):\n",
    "    x = 1\n",
    "    while(x <= 10):\n",
    "        print(\"{} * {} =\".format(n,x),x*n)\n",
    "        x+=1\n",
    "    return ''"
   ]
  },
  {
   "cell_type": "code",
   "execution_count": 36,
   "metadata": {},
   "outputs": [
    {
     "name": "stdin",
     "output_type": "stream",
     "text": [
      "Masukkan angka (n) : 2\n"
     ]
    },
    {
     "name": "stdout",
     "output_type": "stream",
     "text": [
      "2 * 1 = 2\n",
      "2 * 2 = 4\n",
      "2 * 3 = 6\n",
      "2 * 4 = 8\n",
      "2 * 5 = 10\n",
      "2 * 6 = 12\n",
      "2 * 7 = 14\n",
      "2 * 8 = 16\n",
      "2 * 9 = 18\n",
      "2 * 10 = 20\n",
      "\n"
     ]
    }
   ],
   "source": [
    "angka = int(input(\"Masukkan angka (n) :\"))\n",
    "print(perkalian(angka))"
   ]
  },
  {
   "cell_type": "code",
   "execution_count": 1,
   "metadata": {},
   "outputs": [],
   "source": [
    "def alarm(x):\n",
    "    triger = x\n",
    "    while(triger != \"sudah\"):\n",
    "        print(\"beep\")\n",
    "        triger = input('Sudah Bangun ?')\n",
    "    print('Dasar Kebo')"
   ]
  },
  {
   "cell_type": "code",
   "execution_count": 2,
   "metadata": {},
   "outputs": [
    {
     "name": "stdin",
     "output_type": "stream",
     "text": [
      "Sudah bangun ? gung\n"
     ]
    },
    {
     "name": "stdout",
     "output_type": "stream",
     "text": [
      "beep\n"
     ]
    },
    {
     "name": "stdin",
     "output_type": "stream",
     "text": [
      "Sudah Bangun ? sampun\n"
     ]
    },
    {
     "name": "stdout",
     "output_type": "stream",
     "text": [
      "beep\n"
     ]
    },
    {
     "name": "stdin",
     "output_type": "stream",
     "text": [
      "Sudah Bangun ? sudah\n"
     ]
    },
    {
     "name": "stdout",
     "output_type": "stream",
     "text": [
      "Dasar Kebo\n"
     ]
    }
   ],
   "source": [
    "pertanyaan = input(\"Sudah bangun ?\")\n",
    "alarm(pertanyaan)"
   ]
  },
  {
   "cell_type": "code",
   "execution_count": 8,
   "metadata": {},
   "outputs": [],
   "source": [
    "def show(emot):\n",
    "    total = \"_\"*emot\n",
    "    print(\"^\"+str(total)+\"^\")\n",
    "    return ''"
   ]
  },
  {
   "cell_type": "code",
   "execution_count": 10,
   "metadata": {},
   "outputs": [
    {
     "name": "stdin",
     "output_type": "stream",
     "text": [
      " 2\n"
     ]
    },
    {
     "name": "stdout",
     "output_type": "stream",
     "text": [
      "^__^\n"
     ]
    }
   ],
   "source": [
    "emoticon = int(input())\n",
    "show(emoticon)"
   ]
  },
  {
   "cell_type": "code",
   "execution_count": null,
   "metadata": {},
   "outputs": [],
   "source": []
  }
 ],
 "metadata": {
  "kernelspec": {
   "display_name": "Python 3",
   "language": "python",
   "name": "python3"
  },
  "language_info": {
   "codemirror_mode": {
    "name": "ipython",
    "version": 3
   },
   "file_extension": ".py",
   "mimetype": "text/x-python",
   "name": "python",
   "nbconvert_exporter": "python",
   "pygments_lexer": "ipython3",
   "version": "3.8.0"
  }
 },
 "nbformat": 4,
 "nbformat_minor": 4
}
